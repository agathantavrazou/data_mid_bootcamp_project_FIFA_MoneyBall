{
 "cells": [
  {
   "cell_type": "code",
   "execution_count": 1,
   "metadata": {},
   "outputs": [],
   "source": [
    "import numpy as np \n",
    "import pandas as pd\n",
    "import matplotlib.pyplot as plt\n",
    "import seaborn as sns\n",
    "#Turning off the warnings\n",
    "import warnings\n",
    "warnings.filterwarnings('ignore')\n",
    "import scipy.stats as stats\n",
    "from sklearn.model_selection import train_test_split\n",
    "from sklearn.linear_model import LinearRegression\n",
    "import statsmodels.api as sm\n",
    "from statsmodels.formula.api import ols\n",
    "from sklearn.metrics import r2_score, mean_squared_error, mean_absolute_error\n",
    "import plotly.express as px"
   ]
  },
  {
   "cell_type": "code",
   "execution_count": 125,
   "metadata": {},
   "outputs": [
    {
     "name": "stdout",
     "output_type": "stream",
     "text": [
      "   ID         Name  Age  OVA            Nationality           Club  BOV   BP  \\\n",
      "0   2  G. Pasquale   33   69                  Italy        Udinese   71  LWB   \n",
      "1  16  Luis García   37   71                  Spain      KAS Eupen   70   CM   \n",
      "2  27      J. Cole   33   71                England  Coventry City   71  CAM   \n",
      "3  36     D. Yorke   36   68  Trinidad &amp; Tobago     Sunderland   70   ST   \n",
      "4  41      Iniesta   36   81                  Spain    Vissel Kobe   82  CAM   \n",
      "\n",
      "       Position                                       Player Photo  ...  \\\n",
      "0            LM  https://cdn.sofifa.com/players/000/002/16_120.png  ...   \n",
      "1    CM CAM CDM  https://cdn.sofifa.com/players/000/016/19_120.png  ...   \n",
      "2  CAM RM RW LM  https://cdn.sofifa.com/players/000/027/16_120.png  ...   \n",
      "3           NaN  https://cdn.sofifa.com/players/000/036/09_120.png  ...   \n",
      "4        CM CAM  https://cdn.sofifa.com/players/000/041/20_120.png  ...   \n",
      "\n",
      "     CDM    RDM    RWB     LB   LCB    CB   RCB     RB    GK Gender  \n",
      "0  70+-1  70+-1  71+-2  70+-1  69+0  69+0  69+0  70+-1  17+0   Male  \n",
      "1   66+1   66+1   62+1   60+1  60+1  60+1  60+1   60+1  17+1   Male  \n",
      "2   54+0   54+0   52+0   47+0  46+0  46+0  46+0   47+0  15+0   Male  \n",
      "3   65+0   65+0   56+0   57+0  51+0  51+0  51+0   57+0  22+0   Male  \n",
      "4   73+3   73+3   70+3   67+3  64+3  64+3  64+3   67+3  17+3   Male  \n",
      "\n",
      "[5 rows x 107 columns]\n"
     ]
    },
    {
     "name": "stderr",
     "output_type": "stream",
     "text": [
      "/Users/agathantavrazou/opt/anaconda3/lib/python3.8/site-packages/IPython/core/interactiveshell.py:3146: DtypeWarning: Columns (78) have mixed types.Specify dtype option on import or set low_memory=False.\n",
      "  has_raised = await self.run_ast_nodes(code_ast.body, cell_name,\n"
     ]
    }
   ],
   "source": [
    "data = pd.read_csv('fifa21_male2.csv')\n",
    "print(data.head())"
   ]
  },
  {
   "cell_type": "code",
   "execution_count": 126,
   "metadata": {
    "scrolled": false
   },
   "outputs": [
    {
     "name": "stdout",
     "output_type": "stream",
     "text": [
      "          Name  Age            Nationality  OVA  Wage  Value   foot  BOV  \\\n",
      "0  G. Pasquale   33                  Italy   69   €7K  €625K   Left   71   \n",
      "1  Luis García   37                  Spain   71   €7K  €600K  Right   70   \n",
      "2      J. Cole   33                England   71  €15K  €1.1M  Right   71   \n",
      "3     D. Yorke   36  Trinidad &amp; Tobago   68    €0     €0  Right   70   \n",
      "4      Iniesta   36                  Spain   81  €12K  €5.5M  Right   82   \n",
      "\n",
      "   Weight      Position  \n",
      "0  181lbs            LM  \n",
      "1  143lbs    CM CAM CDM  \n",
      "2  161lbs  CAM RM RW LM  \n",
      "3  165lbs           NaN  \n",
      "4  150lbs        CM CAM  \n"
     ]
    }
   ],
   "source": [
    "# choose only the columns I want\n",
    "\n",
    "data = data[['Name', 'Age', 'Nationality', 'OVA', 'Wage', 'Value', 'foot', 'BOV', 'Weight', 'Position']]\n",
    "print(data.head())"
   ]
  },
  {
   "cell_type": "code",
   "execution_count": 145,
   "metadata": {
    "scrolled": false
   },
   "outputs": [
    {
     "data": {
      "text/plain": [
       "Name           object\n",
       "Age             int64\n",
       "Nationality    object\n",
       "OVA             int64\n",
       "Wage           object\n",
       "Value          object\n",
       "foot           object\n",
       "BOV             int64\n",
       "Weight          int64\n",
       "Position       object\n",
       "dtype: object"
      ]
     },
     "execution_count": 145,
     "metadata": {},
     "output_type": "execute_result"
    }
   ],
   "source": [
    "# identify the column types \n",
    "\n",
    "data.dtypes\n"
   ]
  },
  {
   "cell_type": "code",
   "execution_count": 159,
   "metadata": {},
   "outputs": [
    {
     "data": {
      "text/plain": [
       "Name           object\n",
       "Age             int64\n",
       "Nationality    object\n",
       "OVA             int64\n",
       "Wage           object\n",
       "Value          object\n",
       "foot           object\n",
       "BOV             int64\n",
       "Weight          int64\n",
       "Position       object\n",
       "dtype: object"
      ]
     },
     "execution_count": 159,
     "metadata": {},
     "output_type": "execute_result"
    }
   ],
   "source": [
    "# clean the Weight column, remove the lbs so it can be worked as an integer\n",
    "\n",
    "#data.Weight=data.Weight.str.replace('[lbs]','') \n",
    "data.Weight\n",
    "\n",
    "# remove the missing values\n",
    "\n",
    "data.dropna(inplace = True)\n",
    "#print(data['Weight']).head\n",
    "\n",
    "#change type to integer\n",
    "data['Weight'] = data['Weight'].astype(int)\n",
    "\n",
    "data.dtypes\n"
   ]
  },
  {
   "cell_type": "code",
   "execution_count": 155,
   "metadata": {},
   "outputs": [
    {
     "name": "stdout",
     "output_type": "stream",
     "text": [
      "165.49473432264242\n"
     ]
    },
    {
     "data": {
      "text/plain": [
       "<AxesSubplot:>"
      ]
     },
     "execution_count": 155,
     "metadata": {},
     "output_type": "execute_result"
    },
    {
     "data": {
      "image/png": "[encoded data removed]",
      "text/plain": [
       "<Figure size 432x288 with 1 Axes>"
      ]
     },
     "metadata": {},
     "output_type": "display_data"
    }
   ],
   "source": [
    "# find the mean in weight\n",
    "\n",
    "weight_mean = data['Weight'].mean()\n",
    "print(weight_mean)\n",
    "\n",
    "#create histogram\n",
    "\n",
    "sns.set()\n",
    "data['Weight'].hist(bins = 15)"
   ]
  },
  {
   "cell_type": "code",
   "execution_count": 165,
   "metadata": {},
   "outputs": [
    {
     "data": {
      "text/html": [
       "<div>\n",
       "<style scoped>\n",
       "    .dataframe tbody tr th:only-of-type {\n",
       "        vertical-align: middle;\n",
       "    }\n",
       "\n",
       "    .dataframe tbody tr th {\n",
       "        vertical-align: top;\n",
       "    }\n",
       "\n",
       "    .dataframe thead th {\n",
       "        text-align: right;\n",
       "    }\n",
       "</style>\n",
       "<table border=\"1\" class=\"dataframe\">\n",
       "  <thead>\n",
       "    <tr style=\"text-align: right;\">\n",
       "      <th></th>\n",
       "      <th>Name</th>\n",
       "      <th>Age</th>\n",
       "      <th>Nationality</th>\n",
       "      <th>OVA</th>\n",
       "      <th>Wage</th>\n",
       "      <th>Value</th>\n",
       "      <th>foot</th>\n",
       "      <th>BOV</th>\n",
       "      <th>Weight</th>\n",
       "      <th>Position</th>\n",
       "    </tr>\n",
       "  </thead>\n",
       "  <tbody>\n",
       "    <tr>\n",
       "      <th>0</th>\n",
       "      <td>G. Pasquale</td>\n",
       "      <td>33</td>\n",
       "      <td>Italy</td>\n",
       "      <td>69</td>\n",
       "      <td>7K</td>\n",
       "      <td>€625K</td>\n",
       "      <td>Left</td>\n",
       "      <td>71</td>\n",
       "      <td>181</td>\n",
       "      <td>LM</td>\n",
       "    </tr>\n",
       "    <tr>\n",
       "      <th>1</th>\n",
       "      <td>Luis García</td>\n",
       "      <td>37</td>\n",
       "      <td>Spain</td>\n",
       "      <td>71</td>\n",
       "      <td>7K</td>\n",
       "      <td>€600K</td>\n",
       "      <td>Right</td>\n",
       "      <td>70</td>\n",
       "      <td>143</td>\n",
       "      <td>CM CAM CDM</td>\n",
       "    </tr>\n",
       "    <tr>\n",
       "      <th>2</th>\n",
       "      <td>J. Cole</td>\n",
       "      <td>33</td>\n",
       "      <td>England</td>\n",
       "      <td>71</td>\n",
       "      <td>15K</td>\n",
       "      <td>€1.1M</td>\n",
       "      <td>Right</td>\n",
       "      <td>71</td>\n",
       "      <td>161</td>\n",
       "      <td>CAM RM RW LM</td>\n",
       "    </tr>\n",
       "    <tr>\n",
       "      <th>4</th>\n",
       "      <td>Iniesta</td>\n",
       "      <td>36</td>\n",
       "      <td>Spain</td>\n",
       "      <td>81</td>\n",
       "      <td>12K</td>\n",
       "      <td>€5.5M</td>\n",
       "      <td>Right</td>\n",
       "      <td>82</td>\n",
       "      <td>150</td>\n",
       "      <td>CM CAM</td>\n",
       "    </tr>\n",
       "    <tr>\n",
       "      <th>5</th>\n",
       "      <td>D. Odonkor</td>\n",
       "      <td>27</td>\n",
       "      <td>Germany</td>\n",
       "      <td>66</td>\n",
       "      <td>5K</td>\n",
       "      <td>€725K</td>\n",
       "      <td>Right</td>\n",
       "      <td>66</td>\n",
       "      <td>163</td>\n",
       "      <td>RW RM</td>\n",
       "    </tr>\n",
       "    <tr>\n",
       "      <th>...</th>\n",
       "      <td>...</td>\n",
       "      <td>...</td>\n",
       "      <td>...</td>\n",
       "      <td>...</td>\n",
       "      <td>...</td>\n",
       "      <td>...</td>\n",
       "      <td>...</td>\n",
       "      <td>...</td>\n",
       "      <td>...</td>\n",
       "      <td>...</td>\n",
       "    </tr>\n",
       "    <tr>\n",
       "      <th>17120</th>\n",
       "      <td>A. Medioub</td>\n",
       "      <td>22</td>\n",
       "      <td>France</td>\n",
       "      <td>64</td>\n",
       "      <td>2K</td>\n",
       "      <td>€550K</td>\n",
       "      <td>Right</td>\n",
       "      <td>66</td>\n",
       "      <td>165</td>\n",
       "      <td>CB</td>\n",
       "    </tr>\n",
       "    <tr>\n",
       "      <th>17121</th>\n",
       "      <td>W. Rickard</td>\n",
       "      <td>18</td>\n",
       "      <td>Wales</td>\n",
       "      <td>56</td>\n",
       "      <td>3K</td>\n",
       "      <td>€130K</td>\n",
       "      <td>Right</td>\n",
       "      <td>58</td>\n",
       "      <td>170</td>\n",
       "      <td>CAM CM</td>\n",
       "    </tr>\n",
       "    <tr>\n",
       "      <th>17122</th>\n",
       "      <td>C. Barrett</td>\n",
       "      <td>18</td>\n",
       "      <td>England</td>\n",
       "      <td>56</td>\n",
       "      <td>2K</td>\n",
       "      <td>€130K</td>\n",
       "      <td>Right</td>\n",
       "      <td>56</td>\n",
       "      <td>154</td>\n",
       "      <td>RB</td>\n",
       "    </tr>\n",
       "    <tr>\n",
       "      <th>17123</th>\n",
       "      <td>J. Gazibegović</td>\n",
       "      <td>20</td>\n",
       "      <td>Bosnia Herzegovina</td>\n",
       "      <td>62</td>\n",
       "      <td>3K</td>\n",
       "      <td>€475K</td>\n",
       "      <td>Right</td>\n",
       "      <td>62</td>\n",
       "      <td>148</td>\n",
       "      <td>RB LB</td>\n",
       "    </tr>\n",
       "    <tr>\n",
       "      <th>17124</th>\n",
       "      <td>Pablo Rodríguez</td>\n",
       "      <td>18</td>\n",
       "      <td>Spain</td>\n",
       "      <td>59</td>\n",
       "      <td>2K</td>\n",
       "      <td>€325K</td>\n",
       "      <td>Right</td>\n",
       "      <td>61</td>\n",
       "      <td>154</td>\n",
       "      <td>ST</td>\n",
       "    </tr>\n",
       "  </tbody>\n",
       "</table>\n",
       "<p>16712 rows × 10 columns</p>\n",
       "</div>"
      ],
      "text/plain": [
       "                  Name  Age         Nationality  OVA Wage  Value   foot  BOV  \\\n",
       "0          G. Pasquale   33               Italy   69   7K  €625K   Left   71   \n",
       "1          Luis García   37               Spain   71   7K  €600K  Right   70   \n",
       "2              J. Cole   33             England   71  15K  €1.1M  Right   71   \n",
       "4              Iniesta   36               Spain   81  12K  €5.5M  Right   82   \n",
       "5           D. Odonkor   27             Germany   66   5K  €725K  Right   66   \n",
       "...                ...  ...                 ...  ...  ...    ...    ...  ...   \n",
       "17120       A. Medioub   22              France   64   2K  €550K  Right   66   \n",
       "17121       W. Rickard   18               Wales   56   3K  €130K  Right   58   \n",
       "17122       C. Barrett   18             England   56   2K  €130K  Right   56   \n",
       "17123   J. Gazibegović   20  Bosnia Herzegovina   62   3K  €475K  Right   62   \n",
       "17124  Pablo Rodríguez   18               Spain   59   2K  €325K  Right   61   \n",
       "\n",
       "       Weight      Position  \n",
       "0         181            LM  \n",
       "1         143    CM CAM CDM  \n",
       "2         161  CAM RM RW LM  \n",
       "4         150        CM CAM  \n",
       "5         163         RW RM  \n",
       "...       ...           ...  \n",
       "17120     165            CB  \n",
       "17121     170        CAM CM  \n",
       "17122     154            RB  \n",
       "17123     148         RB LB  \n",
       "17124     154            ST  \n",
       "\n",
       "[16712 rows x 10 columns]"
      ]
     },
     "execution_count": 165,
     "metadata": {},
     "output_type": "execute_result"
    }
   ],
   "source": [
    "data.isna\n",
    "data\n",
    "\n",
    "\n",
    "# drop null value columns to avoid errors\n",
    "\n",
    "data.dropna(inplace = True)\n",
    "data"
   ]
  },
  {
   "cell_type": "code",
   "execution_count": 259,
   "metadata": {},
   "outputs": [
    {
     "data": {
      "text/plain": [
       "Name             object\n",
       "Age               int64\n",
       "Nationality      object\n",
       "OVA               int64\n",
       "Wage             object\n",
       "Value           float64\n",
       "foot             object\n",
       "BOV               int64\n",
       "Weight            int64\n",
       "Position         object\n",
       "Wage_numeric    float64\n",
       "dtype: object"
      ]
     },
     "execution_count": 259,
     "metadata": {},
     "output_type": "execute_result"
    }
   ],
   "source": [
    "# Clean column Value by removing currency and transform to float\n",
    "\n",
    "\n",
    "def format_money(column):\n",
    "    \n",
    "    values = []\n",
    "    for value in data[column]:\n",
    "        if type(value) == float or type(value) == int:\n",
    "            return value\n",
    "        if value[-1]=='M':\n",
    "            money = 1000000\n",
    "            money *= float(value[1:-1])\n",
    "        elif value[-1]=='K':\n",
    "            money = 1000\n",
    "            money *= float(value[1:-1])\n",
    "        else: \n",
    "            money = 0\n",
    "        values.append(money)\n",
    "    return values\n",
    "\n",
    "data.dtypes"
   ]
  },
  {
   "cell_type": "code",
   "execution_count": 260,
   "metadata": {
    "scrolled": true
   },
   "outputs": [
    {
     "data": {
      "text/html": [
       "<div>\n",
       "<style scoped>\n",
       "    .dataframe tbody tr th:only-of-type {\n",
       "        vertical-align: middle;\n",
       "    }\n",
       "\n",
       "    .dataframe tbody tr th {\n",
       "        vertical-align: top;\n",
       "    }\n",
       "\n",
       "    .dataframe thead th {\n",
       "        text-align: right;\n",
       "    }\n",
       "</style>\n",
       "<table border=\"1\" class=\"dataframe\">\n",
       "  <thead>\n",
       "    <tr style=\"text-align: right;\">\n",
       "      <th></th>\n",
       "      <th>Name</th>\n",
       "      <th>Age</th>\n",
       "      <th>Nationality</th>\n",
       "      <th>OVA</th>\n",
       "      <th>Wage</th>\n",
       "      <th>Value</th>\n",
       "      <th>foot</th>\n",
       "      <th>BOV</th>\n",
       "      <th>Weight</th>\n",
       "      <th>Position</th>\n",
       "      <th>Wage_numeric</th>\n",
       "    </tr>\n",
       "  </thead>\n",
       "  <tbody>\n",
       "    <tr>\n",
       "      <th>0</th>\n",
       "      <td>G. Pasquale</td>\n",
       "      <td>33</td>\n",
       "      <td>Italy</td>\n",
       "      <td>69</td>\n",
       "      <td>7000</td>\n",
       "      <td>625000.0</td>\n",
       "      <td>Left</td>\n",
       "      <td>71</td>\n",
       "      <td>181</td>\n",
       "      <td>LM</td>\n",
       "      <td>NaN</td>\n",
       "    </tr>\n",
       "    <tr>\n",
       "      <th>1</th>\n",
       "      <td>Luis García</td>\n",
       "      <td>37</td>\n",
       "      <td>Spain</td>\n",
       "      <td>71</td>\n",
       "      <td>7000</td>\n",
       "      <td>625000.0</td>\n",
       "      <td>Right</td>\n",
       "      <td>70</td>\n",
       "      <td>143</td>\n",
       "      <td>CM CAM CDM</td>\n",
       "      <td>NaN</td>\n",
       "    </tr>\n",
       "    <tr>\n",
       "      <th>2</th>\n",
       "      <td>J. Cole</td>\n",
       "      <td>33</td>\n",
       "      <td>England</td>\n",
       "      <td>71</td>\n",
       "      <td>15000</td>\n",
       "      <td>625000.0</td>\n",
       "      <td>Right</td>\n",
       "      <td>71</td>\n",
       "      <td>161</td>\n",
       "      <td>CAM RM RW LM</td>\n",
       "      <td>NaN</td>\n",
       "    </tr>\n",
       "    <tr>\n",
       "      <th>4</th>\n",
       "      <td>Iniesta</td>\n",
       "      <td>36</td>\n",
       "      <td>Spain</td>\n",
       "      <td>81</td>\n",
       "      <td>12000</td>\n",
       "      <td>625000.0</td>\n",
       "      <td>Right</td>\n",
       "      <td>82</td>\n",
       "      <td>150</td>\n",
       "      <td>CM CAM</td>\n",
       "      <td>NaN</td>\n",
       "    </tr>\n",
       "    <tr>\n",
       "      <th>5</th>\n",
       "      <td>D. Odonkor</td>\n",
       "      <td>27</td>\n",
       "      <td>Germany</td>\n",
       "      <td>66</td>\n",
       "      <td>5000</td>\n",
       "      <td>625000.0</td>\n",
       "      <td>Right</td>\n",
       "      <td>66</td>\n",
       "      <td>163</td>\n",
       "      <td>RW RM</td>\n",
       "      <td>NaN</td>\n",
       "    </tr>\n",
       "    <tr>\n",
       "      <th>...</th>\n",
       "      <td>...</td>\n",
       "      <td>...</td>\n",
       "      <td>...</td>\n",
       "      <td>...</td>\n",
       "      <td>...</td>\n",
       "      <td>...</td>\n",
       "      <td>...</td>\n",
       "      <td>...</td>\n",
       "      <td>...</td>\n",
       "      <td>...</td>\n",
       "      <td>...</td>\n",
       "    </tr>\n",
       "    <tr>\n",
       "      <th>17120</th>\n",
       "      <td>A. Medioub</td>\n",
       "      <td>22</td>\n",
       "      <td>France</td>\n",
       "      <td>64</td>\n",
       "      <td>2000</td>\n",
       "      <td>625000.0</td>\n",
       "      <td>Right</td>\n",
       "      <td>66</td>\n",
       "      <td>165</td>\n",
       "      <td>CB</td>\n",
       "      <td>NaN</td>\n",
       "    </tr>\n",
       "    <tr>\n",
       "      <th>17121</th>\n",
       "      <td>W. Rickard</td>\n",
       "      <td>18</td>\n",
       "      <td>Wales</td>\n",
       "      <td>56</td>\n",
       "      <td>3000</td>\n",
       "      <td>625000.0</td>\n",
       "      <td>Right</td>\n",
       "      <td>58</td>\n",
       "      <td>170</td>\n",
       "      <td>CAM CM</td>\n",
       "      <td>NaN</td>\n",
       "    </tr>\n",
       "    <tr>\n",
       "      <th>17122</th>\n",
       "      <td>C. Barrett</td>\n",
       "      <td>18</td>\n",
       "      <td>England</td>\n",
       "      <td>56</td>\n",
       "      <td>2000</td>\n",
       "      <td>625000.0</td>\n",
       "      <td>Right</td>\n",
       "      <td>56</td>\n",
       "      <td>154</td>\n",
       "      <td>RB</td>\n",
       "      <td>NaN</td>\n",
       "    </tr>\n",
       "    <tr>\n",
       "      <th>17123</th>\n",
       "      <td>J. Gazibegović</td>\n",
       "      <td>20</td>\n",
       "      <td>Bosnia Herzegovina</td>\n",
       "      <td>62</td>\n",
       "      <td>3000</td>\n",
       "      <td>625000.0</td>\n",
       "      <td>Right</td>\n",
       "      <td>62</td>\n",
       "      <td>148</td>\n",
       "      <td>RB LB</td>\n",
       "      <td>NaN</td>\n",
       "    </tr>\n",
       "    <tr>\n",
       "      <th>17124</th>\n",
       "      <td>Pablo Rodríguez</td>\n",
       "      <td>18</td>\n",
       "      <td>Spain</td>\n",
       "      <td>59</td>\n",
       "      <td>2000</td>\n",
       "      <td>625000.0</td>\n",
       "      <td>Right</td>\n",
       "      <td>61</td>\n",
       "      <td>154</td>\n",
       "      <td>ST</td>\n",
       "      <td>NaN</td>\n",
       "    </tr>\n",
       "  </tbody>\n",
       "</table>\n",
       "<p>16712 rows × 11 columns</p>\n",
       "</div>"
      ],
      "text/plain": [
       "                  Name  Age         Nationality  OVA   Wage     Value   foot  \\\n",
       "0          G. Pasquale   33               Italy   69   7000  625000.0   Left   \n",
       "1          Luis García   37               Spain   71   7000  625000.0  Right   \n",
       "2              J. Cole   33             England   71  15000  625000.0  Right   \n",
       "4              Iniesta   36               Spain   81  12000  625000.0  Right   \n",
       "5           D. Odonkor   27             Germany   66   5000  625000.0  Right   \n",
       "...                ...  ...                 ...  ...    ...       ...    ...   \n",
       "17120       A. Medioub   22              France   64   2000  625000.0  Right   \n",
       "17121       W. Rickard   18               Wales   56   3000  625000.0  Right   \n",
       "17122       C. Barrett   18             England   56   2000  625000.0  Right   \n",
       "17123   J. Gazibegović   20  Bosnia Herzegovina   62   3000  625000.0  Right   \n",
       "17124  Pablo Rodríguez   18               Spain   59   2000  625000.0  Right   \n",
       "\n",
       "       BOV  Weight      Position  Wage_numeric  \n",
       "0       71     181            LM           NaN  \n",
       "1       70     143    CM CAM CDM           NaN  \n",
       "2       71     161  CAM RM RW LM           NaN  \n",
       "4       82     150        CM CAM           NaN  \n",
       "5       66     163         RW RM           NaN  \n",
       "...    ...     ...           ...           ...  \n",
       "17120   66     165            CB           NaN  \n",
       "17121   58     170        CAM CM           NaN  \n",
       "17122   56     154            RB           NaN  \n",
       "17123   62     148         RB LB           NaN  \n",
       "17124   61     154            ST           NaN  \n",
       "\n",
       "[16712 rows x 11 columns]"
      ]
     },
     "execution_count": 260,
     "metadata": {},
     "output_type": "execute_result"
    }
   ],
   "source": [
    "data['Value'] =  format_money('Value')\n",
    "data"
   ]
  },
  {
   "cell_type": "code",
   "execution_count": 273,
   "metadata": {
    "scrolled": true
   },
   "outputs": [
    {
     "data": {
      "text/plain": [
       "Name             object\n",
       "Age               int64\n",
       "Nationality      object\n",
       "OVA               int64\n",
       "Wage             object\n",
       "Value           float64\n",
       "foot             object\n",
       "BOV               int64\n",
       "Weight            int64\n",
       "Position         object\n",
       "Wage_numeric    float64\n",
       "dtype: object"
      ]
     },
     "execution_count": 273,
     "metadata": {},
     "output_type": "execute_result"
    }
   ],
   "source": [
    "# Clean column Wage by removing currency and transform to float\n",
    "\n",
    "def format_money(column):\n",
    "    values = []\n",
    "    for value in data[column]:\n",
    "        print(type(value))\n",
    "        if value[-1]=='M':\n",
    "            money = 1000000\n",
    "            print(value[1:-1]) \n",
    "            money *= float(value[1:-1])\n",
    "        elif value[-1]=='K':\n",
    "            money = 1000\n",
    "            money *= float(value[1:-1])\n",
    "        else: \n",
    "            money = 0\n",
    "        values.append(money)\n",
    "    return values\n",
    "\n",
    "    \n",
    "data.dtypes"
   ]
  },
  {
   "cell_type": "code",
   "execution_count": 274,
   "metadata": {
    "scrolled": true
   },
   "outputs": [
    {
     "name": "stdout",
     "output_type": "stream",
     "text": [
      "<class 'float'>\n"
     ]
    },
    {
     "ename": "TypeError",
     "evalue": "'float' object is not subscriptable",
     "output_type": "error",
     "traceback": [
      "\u001b[0;31m---------------------------------------------------------------------------\u001b[0m",
      "\u001b[0;31mTypeError\u001b[0m                                 Traceback (most recent call last)",
      "\u001b[0;32m<ipython-input-274-09409c851226>\u001b[0m in \u001b[0;36m<module>\u001b[0;34m\u001b[0m\n\u001b[0;32m----> 1\u001b[0;31m \u001b[0mdata\u001b[0m\u001b[0;34m[\u001b[0m\u001b[0;34m'Wage'\u001b[0m\u001b[0;34m]\u001b[0m \u001b[0;34m=\u001b[0m  \u001b[0mformat_money\u001b[0m\u001b[0;34m(\u001b[0m\u001b[0;34m'Wage'\u001b[0m\u001b[0;34m)\u001b[0m\u001b[0;34m\u001b[0m\u001b[0;34m\u001b[0m\u001b[0m\n\u001b[0m",
      "\u001b[0;32m<ipython-input-273-580ee3367080>\u001b[0m in \u001b[0;36mformat_money\u001b[0;34m(column)\u001b[0m\n\u001b[1;32m      5\u001b[0m     \u001b[0;32mfor\u001b[0m \u001b[0mvalue\u001b[0m \u001b[0;32min\u001b[0m \u001b[0mdata\u001b[0m\u001b[0;34m[\u001b[0m\u001b[0mcolumn\u001b[0m\u001b[0;34m]\u001b[0m\u001b[0;34m:\u001b[0m\u001b[0;34m\u001b[0m\u001b[0;34m\u001b[0m\u001b[0m\n\u001b[1;32m      6\u001b[0m         \u001b[0mprint\u001b[0m\u001b[0;34m(\u001b[0m\u001b[0mtype\u001b[0m\u001b[0;34m(\u001b[0m\u001b[0mvalue\u001b[0m\u001b[0;34m)\u001b[0m\u001b[0;34m)\u001b[0m\u001b[0;34m\u001b[0m\u001b[0;34m\u001b[0m\u001b[0m\n\u001b[0;32m----> 7\u001b[0;31m         \u001b[0;32mif\u001b[0m \u001b[0mvalue\u001b[0m\u001b[0;34m[\u001b[0m\u001b[0;34m-\u001b[0m\u001b[0;36m1\u001b[0m\u001b[0;34m]\u001b[0m\u001b[0;34m==\u001b[0m\u001b[0;34m'M'\u001b[0m\u001b[0;34m:\u001b[0m\u001b[0;34m\u001b[0m\u001b[0;34m\u001b[0m\u001b[0m\n\u001b[0m\u001b[1;32m      8\u001b[0m             \u001b[0mmoney\u001b[0m \u001b[0;34m=\u001b[0m \u001b[0;36m1000000\u001b[0m\u001b[0;34m\u001b[0m\u001b[0;34m\u001b[0m\u001b[0m\n\u001b[1;32m      9\u001b[0m             \u001b[0mprint\u001b[0m\u001b[0;34m(\u001b[0m\u001b[0mvalue\u001b[0m\u001b[0;34m[\u001b[0m\u001b[0;36m1\u001b[0m\u001b[0;34m:\u001b[0m\u001b[0;34m-\u001b[0m\u001b[0;36m1\u001b[0m\u001b[0;34m]\u001b[0m\u001b[0;34m)\u001b[0m\u001b[0;34m\u001b[0m\u001b[0;34m\u001b[0m\u001b[0m\n",
      "\u001b[0;31mTypeError\u001b[0m: 'float' object is not subscriptable"
     ]
    }
   ],
   "source": [
    "data['Wage'] =  format_money('Wage')"
   ]
  },
  {
   "cell_type": "code",
   "execution_count": 275,
   "metadata": {
    "scrolled": true
   },
   "outputs": [
    {
     "data": {
      "text/plain": [
       "Name             object\n",
       "Age               int64\n",
       "Nationality      object\n",
       "OVA               int64\n",
       "Wage             object\n",
       "Value           float64\n",
       "foot             object\n",
       "BOV               int64\n",
       "Weight            int64\n",
       "Position         object\n",
       "Wage_numeric    float64\n",
       "dtype: object"
      ]
     },
     "execution_count": 275,
     "metadata": {},
     "output_type": "execute_result"
    }
   ],
   "source": [
    "data.dtypes"
   ]
  },
  {
   "cell_type": "code",
   "execution_count": 277,
   "metadata": {
    "scrolled": true
   },
   "outputs": [
    {
     "data": {
      "image/png": "[encoded data removed]",
      "text/plain": [
       "<Figure size 432x288 with 2 Axes>"
      ]
     },
     "metadata": {},
     "output_type": "display_data"
    }
   ],
   "source": [
    "numerical_columns = data[['Weight', 'Age', 'Wage_numeric']]\n",
    "\n",
    "sns.heatmap(numerical_columns.corr(), annot=True)bb\n",
    "plt.show()"
   ]
  },
  {
   "cell_type": "code",
   "execution_count": 287,
   "metadata": {},
   "outputs": [
    {
     "name": "stdout",
     "output_type": "stream",
     "text": [
      "Counter({'England': 1663, 'Germany': 1132, 'Spain': 1099, 'France': 970, 'Brazil': 830, 'Argentina': 755, 'Italy': 542, 'Netherlands': 467, 'Portugal': 357, 'United States': 352, 'Mexico': 332, 'Uruguay': 327, 'Colombia': 299, 'Japan': 295, 'Poland': 282, 'Scotland': 271, 'Republic of Ireland': 265, 'Belgium': 258, 'Norway': 255, 'Sweden': 252, 'Denmark': 248, 'Austria': 238, 'Turkey': 220, 'Switzerland': 203, 'Paraguay': 178, 'Chile': 177, 'Romania': 166, 'Korea Republic': 153, 'Australia': 143, 'Croatia': 140, 'Venezuela': 140, 'Senegal': 139, 'Peru': 138, 'Ecuador': 137, 'Nigeria': 136, 'Ghana': 133, 'China PR': 131, 'Wales': 128, 'Serbia': 126, 'Czech Republic': 118, 'Ivory Coast': 116, 'Russia': 111, 'Saudi Arabia': 102, 'Greece': 95, 'Cameroon': 94, 'Canada': 93, 'Morocco': 90, 'Northern Ireland': 75, 'Ukraine': 70, 'DR Congo': 68, 'Mali': 67, 'Bosnia Herzegovina': 67, 'Finland': 59, 'Bolivia': 59, 'Slovakia': 58, 'South Africa': 56, 'Slovenia': 53, 'Iceland': 49, 'Kosovo': 49, 'Algeria': 48, 'Bulgaria': 45, 'Hungary': 42, 'Albania': 41, 'New Zealand': 37, 'India': 36, 'Costa Rica': 32, 'Egypt': 31, 'Guinea': 31, 'Jamaica': 30, 'Tunisia': 30, 'Israel': 27, 'Montenegro': 25, 'Gambia': 25, 'Burkina Faso': 24, 'Cape Verde': 24, 'Georgia': 24, 'North Macedonia': 22, 'Honduras': 21, 'Guinea Bissau': 20, 'Curacao': 19, 'Iran': 19, 'Congo': 18, 'Angola': 18, 'Gabon': 18, 'United Arab Emirates': 17, 'Togo': 16, 'Zimbabwe': 14, 'Panama': 11, 'Benin': 11, 'Cyprus': 11, 'Haiti': 10, 'Lithuania': 10, 'Comoros': 10, 'Kenya': 10, 'Zambia': 10, 'Luxembourg': 10, 'Madagascar': 9, 'Sierra Leone': 9, 'Guyana': 9, 'Moldova': 8, 'Armenia': 8, 'Uganda': 8, 'Mauritania': 8, 'Uzbekistan': 7, 'Latvia': 7, 'Equatorial Guinea': 7, 'Kazakhstan': 6, 'Thailand': 6, 'Antigua &amp; Barbuda': 6, 'Burundi': 6, 'Dominican Republic': 6, 'Belarus': 5, 'Trinidad &amp; Tobago': 5, 'Cuba': 5, 'Liechtenstein': 5, 'Faroe Islands': 5, 'Central African Republic': 5, 'Liberia': 5, 'Estonia': 4, 'Korea DPR': 4, 'Iraq': 4, 'Libya': 4, 'Lebanon': 4, 'Azerbaijan': 4, 'South Sudan': 4, 'Montserrat': 3, 'Philippines': 3, 'Mozambique': 3, 'Grenada': 3, 'Chinese Taipei': 3, 'El Salvador': 3, 'Afghanistan': 3, 'Sudan': 3, 'Jordan': 2, 'Malaysia': 2, 'Namibia': 2, 'Syria': 2, 'Chad': 2, 'Belize': 2, 'Vietnam': 2, 'Hong Kong': 2, 'Niger': 2, 'Aruba': 1, 'Guam': 1, 'Saint Kitts and Nevis': 1, 'Andorra': 1, 'New Caledonia': 1, 'Barbados': 1, 'Suriname': 1, 'Puerto Rico': 1, 'Bermuda': 1, 'São Tomé &amp; Príncipe': 1, 'Eritrea': 1, 'Malta': 1, 'Saint Lucia': 1, 'Singapore': 1, 'Tanzania': 1, 'Malawi': 1, 'Papua New Guinea': 1, 'Qatar': 1, 'Brunei Darussalam': 1, 'Nicaragua': 1, 'Palestine': 1, 'Rwanda': 1, 'Indonesia': 1, 'Macau': 1})\n"
     ]
    }
   ],
   "source": [
    "from collections import Counter\n",
    "print(Counter(data['Nationality'].values))"
   ]
  },
  {
   "cell_type": "code",
   "execution_count": 288,
   "metadata": {
    "scrolled": true
   },
   "outputs": [
    {
     "name": "stdout",
     "output_type": "stream",
     "text": [
      "[('England', 1663), ('Germany', 1132), ('Spain', 1099), ('France', 970), ('Brazil', 830), ('Argentina', 755), ('Italy', 542), ('Netherlands', 467), ('Portugal', 357), ('United States', 352)]\n"
     ]
    }
   ],
   "source": [
    "print(Counter(data['Nationality'].values).most_common(10))"
   ]
  },
  {
   "cell_type": "code",
   "execution_count": 296,
   "metadata": {},
   "outputs": [
    {
     "data": {
      "image/png": "[encoded data removed]",
      "text/plain": [
       "<Figure size 432x288 with 1 Axes>"
      ]
     },
     "metadata": {},
     "output_type": "display_data"
    }
   ],
   "source": [
    "bar_plot = dict(Counter(data['Nationality'].values).most_common(8))\n",
    "plt.bar(*zip(*bar_plot.items()))\n",
    "plt.show()\n",
    "\n"
   ]
  },
  {
   "cell_type": "code",
   "execution_count": 303,
   "metadata": {
    "scrolled": true
   },
   "outputs": [
    {
     "data": {
      "image/png": "[encoded data removed]",
      "text/plain": [
       "<Figure size 432x288 with 1 Axes>"
      ]
     },
     "metadata": {},
     "output_type": "display_data"
    }
   ],
   "source": [
    "sns.boxplot(x= data['Nationality'], y = data['Weight'])\n",
    "plt.show()"
   ]
  },
  {
   "cell_type": "code",
   "execution_count": null,
   "metadata": {},
   "outputs": [],
   "source": []
  }
 ],
 "metadata": {
  "kernelspec": {
   "display_name": "Python 3",
   "language": "python",
   "name": "python3"
  },
  "language_info": {
   "codemirror_mode": {
    "name": "ipython",
    "version": 3
   },
   "file_extension": ".py",
   "mimetype": "text/x-python",
   "name": "python",
   "nbconvert_exporter": "python",
   "pygments_lexer": "ipython3",
   "version": "3.8.5"
  }
 },
 "nbformat": 4,
 "nbformat_minor": 4
}
